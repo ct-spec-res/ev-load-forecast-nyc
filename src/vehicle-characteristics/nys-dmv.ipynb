{
 "cells": [
  {
   "cell_type": "code",
   "execution_count": 1,
   "id": "6d04e0c8-9eca-4e39-b1d0-0dacda62c662",
   "metadata": {},
   "outputs": [],
   "source": [
    "# Import libraries\n",
    "import pandas as pd\n",
    "from sodapy import Socrata\n",
    "from dotenv import load_dotenv\n",
    "import os\n",
    "import pyvin\n",
    "import numpy as np\n",
    "from tqdm.auto import tqdm\n",
    "import matplotlib.pyplot as plt\n",
    "import geopandas as gpd\n",
    "from shapely.geometry import shape\n",
    "from sklearn.linear_model import LogisticRegression\n",
    "from sklearn.model_selection import train_test_split\n",
    "import difflib\n",
    "tqdm.pandas()"
   ]
  },
  {
   "cell_type": "code",
   "execution_count": 2,
   "id": "efc76d1d-798f-42d1-8d38-94fc8fd80891",
   "metadata": {
    "tags": []
   },
   "outputs": [],
   "source": [
    "def run_client(client_url):\n",
    "    '''\n",
    "    Input:\n",
    "        - N/A\n",
    "    Output:\n",
    "        - Client data for New York State API\n",
    "    '''\n",
    "    #Load enviroment file\n",
    "    load_dotenv()\n",
    "    \n",
    "    # Login to NYS data with enviornment data\n",
    "    client = Socrata(client_url,\n",
    "                 os.getenv('nys_dmv_app_token'),\n",
    "                 username = os.getenv('nys_dmv_api_key_id'),\n",
    "                 password = os.getenv('nys_dmv_secret'))\n",
    "    return client\n",
    "\n",
    "def load_dmv_api(client_url):\n",
    "    '''\n",
    "    Input:\n",
    "        - N/A\n",
    "    Output:\n",
    "        - Dataframe with all vehicle registrations in New York that have not expired two years ago\n",
    "            - The data frame includes only vehicles from New York City that are electric\n",
    "    '''\n",
    "    \n",
    "    # Set up endpoint\n",
    "    endpoint = 'w4pv-hbkt'\n",
    "    \n",
    "    # Get client information\n",
    "    client = run_client(client_url)\n",
    "    \n",
    "    # Get total number of records in api\n",
    "    query_count = \"SELECT COUNT(*)\"\n",
    "    # NUM_RECORDS = 1000\n",
    "    NUM_RECORDS = int(client.get(endpoint, query = query_count)[0]['COUNT'])\n",
    "    \n",
    "    # Set up query for api. Select only only vehicles from New York City that are electric\n",
    "    query = f\"\"\"\n",
    "        SELECT vin, county, zip\n",
    "        WHERE record_type = 'VEH'\n",
    "        AND county in ('NEW YORK')\n",
    "        AND fuel_type = 'ELECTRIC'\n",
    "        LIMIT {NUM_RECORDS}\n",
    "    \"\"\"\n",
    "    #\n",
    "    \n",
    "    # Pull results from DMV registration that are vehicles\n",
    "    results = client.get(endpoint, query=query)\n",
    "    \n",
    "    # Change results into dataframe\n",
    "    return pd.DataFrame.from_records(results)\n",
    "\n",
    "def load_zip_api(client_url):\n",
    "    '''\n",
    "    Input:\n",
    "        - N/A\n",
    "    Output:\n",
    "        - Dataframe with NYC zipcodes \n",
    "    '''\n",
    "    \n",
    "    # Set up endpoint\n",
    "    endpoint = 'pri4-ifjk'\n",
    "    \n",
    "    # Get client information\n",
    "    client = run_client(client_url)\n",
    "    \n",
    "    # Get total number of records in api\n",
    "    query_count = \"SELECT COUNT(*)\"\n",
    "    NUM_RECORDS = int(client.get(endpoint, query = query_count)[0]['COUNT'])\n",
    "    \n",
    "    # Set up query for api. Select only only vehicles from New York City that are electric\n",
    "    query = f\"\"\"\n",
    "        SELECT *\n",
    "        LIMIT {NUM_RECORDS}\n",
    "    \"\"\"\n",
    "    #\n",
    "    \n",
    "    # Pull results from DMV registration that are vehicles\n",
    "    results = client.get(endpoint, query=query)\n",
    "    \n",
    "    # Change results into dataframe\n",
    "    return pd.DataFrame.from_records(results)"
   ]
  },
  {
   "cell_type": "code",
   "execution_count": 3,
   "id": "c9cf25a5-36c2-4aff-9c56-b157fc8b2e79",
   "metadata": {
    "tags": []
   },
   "outputs": [],
   "source": [
    "# Load dataset with vin numbers of NYS registered vehicles\n",
    "df_dmv = load_dmv_api('data.ny.gov')\n",
    "\n",
    "# Get only vins with the correct number of digits for a person vehicle\n",
    "df_dmv = df_dmv.loc[df_dmv['vin'].str.len() == 17].copy()\n",
    "\n",
    "# Drop nan\n",
    "df_dmv.dropna(inplace = True)"
   ]
  },
  {
   "cell_type": "code",
   "execution_count": 4,
   "id": "3ee9607a",
   "metadata": {},
   "outputs": [],
   "source": [
    "df_dmv['vin'] = df_dmv['vin'].astype(str)\n",
    "\n",
    "df_dmv['county'] = df_dmv['county'].astype(str)\n",
    "\n",
    "df_dmv['zip'] = df_dmv['zip'].astype(int)"
   ]
  },
  {
   "cell_type": "code",
   "execution_count": 5,
   "id": "8962cc96-d291-4c60-b719-989be9c4dc41",
   "metadata": {
    "tags": []
   },
   "outputs": [
    {
     "data": {
      "application/vnd.jupyter.widget-view+json": {
       "model_id": "ed0632f0617344e3a4c39109b2d1be80",
       "version_major": 2,
       "version_minor": 0
      },
      "text/plain": [
       "  0%|          | 0/5196 [00:00<?, ?it/s]"
      ]
     },
     "metadata": {},
     "output_type": "display_data"
    },
    {
     "ename": "JSONDecodeError",
     "evalue": "Expecting value: line 1 column 1 (char 0)",
     "output_type": "error",
     "traceback": [
      "\u001b[1;31m---------------------------------------------------------------------------\u001b[0m",
      "\u001b[1;31mJSONDecodeError\u001b[0m                           Traceback (most recent call last)",
      "File \u001b[1;32mc:\\Users\\matth\\Documents\\GitHub\\ev-load-forecast-nyc\\venv\\lib\\site-packages\\requests\\models.py:971\u001b[0m, in \u001b[0;36mResponse.json\u001b[1;34m(self, **kwargs)\u001b[0m\n\u001b[0;32m    970\u001b[0m \u001b[39mtry\u001b[39;00m:\n\u001b[1;32m--> 971\u001b[0m     \u001b[39mreturn\u001b[39;00m complexjson\u001b[39m.\u001b[39mloads(\u001b[39mself\u001b[39m\u001b[39m.\u001b[39mtext, \u001b[39m*\u001b[39m\u001b[39m*\u001b[39mkwargs)\n\u001b[0;32m    972\u001b[0m \u001b[39mexcept\u001b[39;00m JSONDecodeError \u001b[39mas\u001b[39;00m e:\n\u001b[0;32m    973\u001b[0m     \u001b[39m# Catch JSON-related errors and raise as requests.JSONDecodeError\u001b[39;00m\n\u001b[0;32m    974\u001b[0m     \u001b[39m# This aliases json.JSONDecodeError and simplejson.JSONDecodeError\u001b[39;00m\n",
      "File \u001b[1;32mC:\\Program Files\\WindowsApps\\PythonSoftwareFoundation.Python.3.10_3.10.3056.0_x64__qbz5n2kfra8p0\\lib\\json\\__init__.py:346\u001b[0m, in \u001b[0;36mloads\u001b[1;34m(s, cls, object_hook, parse_float, parse_int, parse_constant, object_pairs_hook, **kw)\u001b[0m\n\u001b[0;32m    343\u001b[0m \u001b[39mif\u001b[39;00m (\u001b[39mcls\u001b[39m \u001b[39mis\u001b[39;00m \u001b[39mNone\u001b[39;00m \u001b[39mand\u001b[39;00m object_hook \u001b[39mis\u001b[39;00m \u001b[39mNone\u001b[39;00m \u001b[39mand\u001b[39;00m\n\u001b[0;32m    344\u001b[0m         parse_int \u001b[39mis\u001b[39;00m \u001b[39mNone\u001b[39;00m \u001b[39mand\u001b[39;00m parse_float \u001b[39mis\u001b[39;00m \u001b[39mNone\u001b[39;00m \u001b[39mand\u001b[39;00m\n\u001b[0;32m    345\u001b[0m         parse_constant \u001b[39mis\u001b[39;00m \u001b[39mNone\u001b[39;00m \u001b[39mand\u001b[39;00m object_pairs_hook \u001b[39mis\u001b[39;00m \u001b[39mNone\u001b[39;00m \u001b[39mand\u001b[39;00m \u001b[39mnot\u001b[39;00m kw):\n\u001b[1;32m--> 346\u001b[0m     \u001b[39mreturn\u001b[39;00m _default_decoder\u001b[39m.\u001b[39;49mdecode(s)\n\u001b[0;32m    347\u001b[0m \u001b[39mif\u001b[39;00m \u001b[39mcls\u001b[39m \u001b[39mis\u001b[39;00m \u001b[39mNone\u001b[39;00m:\n",
      "File \u001b[1;32mC:\\Program Files\\WindowsApps\\PythonSoftwareFoundation.Python.3.10_3.10.3056.0_x64__qbz5n2kfra8p0\\lib\\json\\decoder.py:337\u001b[0m, in \u001b[0;36mJSONDecoder.decode\u001b[1;34m(self, s, _w)\u001b[0m\n\u001b[0;32m    333\u001b[0m \u001b[39m\u001b[39m\u001b[39m\"\"\"Return the Python representation of ``s`` (a ``str`` instance\u001b[39;00m\n\u001b[0;32m    334\u001b[0m \u001b[39mcontaining a JSON document).\u001b[39;00m\n\u001b[0;32m    335\u001b[0m \n\u001b[0;32m    336\u001b[0m \u001b[39m\"\"\"\u001b[39;00m\n\u001b[1;32m--> 337\u001b[0m obj, end \u001b[39m=\u001b[39m \u001b[39mself\u001b[39;49m\u001b[39m.\u001b[39;49mraw_decode(s, idx\u001b[39m=\u001b[39;49m_w(s, \u001b[39m0\u001b[39;49m)\u001b[39m.\u001b[39;49mend())\n\u001b[0;32m    338\u001b[0m end \u001b[39m=\u001b[39m _w(s, end)\u001b[39m.\u001b[39mend()\n",
      "File \u001b[1;32mC:\\Program Files\\WindowsApps\\PythonSoftwareFoundation.Python.3.10_3.10.3056.0_x64__qbz5n2kfra8p0\\lib\\json\\decoder.py:355\u001b[0m, in \u001b[0;36mJSONDecoder.raw_decode\u001b[1;34m(self, s, idx)\u001b[0m\n\u001b[0;32m    354\u001b[0m \u001b[39mexcept\u001b[39;00m \u001b[39mStopIteration\u001b[39;00m \u001b[39mas\u001b[39;00m err:\n\u001b[1;32m--> 355\u001b[0m     \u001b[39mraise\u001b[39;00m JSONDecodeError(\u001b[39m\"\u001b[39m\u001b[39mExpecting value\u001b[39m\u001b[39m\"\u001b[39m, s, err\u001b[39m.\u001b[39mvalue) \u001b[39mfrom\u001b[39;00m \u001b[39mNone\u001b[39m\n\u001b[0;32m    356\u001b[0m \u001b[39mreturn\u001b[39;00m obj, end\n",
      "\u001b[1;31mJSONDecodeError\u001b[0m: Expecting value: line 1 column 1 (char 0)",
      "\nDuring handling of the above exception, another exception occurred:\n",
      "\u001b[1;31mJSONDecodeError\u001b[0m                           Traceback (most recent call last)",
      "Cell \u001b[1;32mIn[5], line 2\u001b[0m\n\u001b[0;32m      1\u001b[0m \u001b[39m# Change vin numbers to models\u001b[39;00m\n\u001b[1;32m----> 2\u001b[0m df_dmv[\u001b[39m'\u001b[39m\u001b[39mmodel\u001b[39m\u001b[39m'\u001b[39m] \u001b[39m=\u001b[39m df_dmv[\u001b[39m'\u001b[39;49m\u001b[39mvin\u001b[39;49m\u001b[39m'\u001b[39;49m]\u001b[39m.\u001b[39;49mprogress_apply(\u001b[39mlambda\u001b[39;49;00m x: pyvin\u001b[39m.\u001b[39;49mVIN(x, error_handling\u001b[39m=\u001b[39;49mpyvin\u001b[39m.\u001b[39;49mPASS)\u001b[39m.\u001b[39;49mModel)\n",
      "File \u001b[1;32mc:\\Users\\matth\\Documents\\GitHub\\ev-load-forecast-nyc\\venv\\lib\\site-packages\\tqdm\\std.py:805\u001b[0m, in \u001b[0;36mtqdm.pandas.<locals>.inner_generator.<locals>.inner\u001b[1;34m(df, func, *args, **kwargs)\u001b[0m\n\u001b[0;32m    802\u001b[0m \u001b[39m# Apply the provided function (in **kwargs)\u001b[39;00m\n\u001b[0;32m    803\u001b[0m \u001b[39m# on the df using our wrapper (which provides bar updating)\u001b[39;00m\n\u001b[0;32m    804\u001b[0m \u001b[39mtry\u001b[39;00m:\n\u001b[1;32m--> 805\u001b[0m     \u001b[39mreturn\u001b[39;00m \u001b[39mgetattr\u001b[39m(df, df_function)(wrapper, \u001b[39m*\u001b[39m\u001b[39m*\u001b[39mkwargs)\n\u001b[0;32m    806\u001b[0m \u001b[39mfinally\u001b[39;00m:\n\u001b[0;32m    807\u001b[0m     t\u001b[39m.\u001b[39mclose()\n",
      "File \u001b[1;32mc:\\Users\\matth\\Documents\\GitHub\\ev-load-forecast-nyc\\venv\\lib\\site-packages\\pandas\\core\\series.py:4771\u001b[0m, in \u001b[0;36mSeries.apply\u001b[1;34m(self, func, convert_dtype, args, **kwargs)\u001b[0m\n\u001b[0;32m   4661\u001b[0m \u001b[39mdef\u001b[39;00m \u001b[39mapply\u001b[39m(\n\u001b[0;32m   4662\u001b[0m     \u001b[39mself\u001b[39m,\n\u001b[0;32m   4663\u001b[0m     func: AggFuncType,\n\u001b[1;32m   (...)\u001b[0m\n\u001b[0;32m   4666\u001b[0m     \u001b[39m*\u001b[39m\u001b[39m*\u001b[39mkwargs,\n\u001b[0;32m   4667\u001b[0m ) \u001b[39m-\u001b[39m\u001b[39m>\u001b[39m DataFrame \u001b[39m|\u001b[39m Series:\n\u001b[0;32m   4668\u001b[0m \u001b[39m    \u001b[39m\u001b[39m\"\"\"\u001b[39;00m\n\u001b[0;32m   4669\u001b[0m \u001b[39m    Invoke function on values of Series.\u001b[39;00m\n\u001b[0;32m   4670\u001b[0m \n\u001b[1;32m   (...)\u001b[0m\n\u001b[0;32m   4769\u001b[0m \u001b[39m    dtype: float64\u001b[39;00m\n\u001b[0;32m   4770\u001b[0m \u001b[39m    \"\"\"\u001b[39;00m\n\u001b[1;32m-> 4771\u001b[0m     \u001b[39mreturn\u001b[39;00m SeriesApply(\u001b[39mself\u001b[39;49m, func, convert_dtype, args, kwargs)\u001b[39m.\u001b[39;49mapply()\n",
      "File \u001b[1;32mc:\\Users\\matth\\Documents\\GitHub\\ev-load-forecast-nyc\\venv\\lib\\site-packages\\pandas\\core\\apply.py:1123\u001b[0m, in \u001b[0;36mSeriesApply.apply\u001b[1;34m(self)\u001b[0m\n\u001b[0;32m   1120\u001b[0m     \u001b[39mreturn\u001b[39;00m \u001b[39mself\u001b[39m\u001b[39m.\u001b[39mapply_str()\n\u001b[0;32m   1122\u001b[0m \u001b[39m# self.f is Callable\u001b[39;00m\n\u001b[1;32m-> 1123\u001b[0m \u001b[39mreturn\u001b[39;00m \u001b[39mself\u001b[39;49m\u001b[39m.\u001b[39;49mapply_standard()\n",
      "File \u001b[1;32mc:\\Users\\matth\\Documents\\GitHub\\ev-load-forecast-nyc\\venv\\lib\\site-packages\\pandas\\core\\apply.py:1174\u001b[0m, in \u001b[0;36mSeriesApply.apply_standard\u001b[1;34m(self)\u001b[0m\n\u001b[0;32m   1172\u001b[0m     \u001b[39melse\u001b[39;00m:\n\u001b[0;32m   1173\u001b[0m         values \u001b[39m=\u001b[39m obj\u001b[39m.\u001b[39mastype(\u001b[39mobject\u001b[39m)\u001b[39m.\u001b[39m_values\n\u001b[1;32m-> 1174\u001b[0m         mapped \u001b[39m=\u001b[39m lib\u001b[39m.\u001b[39;49mmap_infer(\n\u001b[0;32m   1175\u001b[0m             values,\n\u001b[0;32m   1176\u001b[0m             f,\n\u001b[0;32m   1177\u001b[0m             convert\u001b[39m=\u001b[39;49m\u001b[39mself\u001b[39;49m\u001b[39m.\u001b[39;49mconvert_dtype,\n\u001b[0;32m   1178\u001b[0m         )\n\u001b[0;32m   1180\u001b[0m \u001b[39mif\u001b[39;00m \u001b[39mlen\u001b[39m(mapped) \u001b[39mand\u001b[39;00m \u001b[39misinstance\u001b[39m(mapped[\u001b[39m0\u001b[39m], ABCSeries):\n\u001b[0;32m   1181\u001b[0m     \u001b[39m# GH#43986 Need to do list(mapped) in order to get treated as nested\u001b[39;00m\n\u001b[0;32m   1182\u001b[0m     \u001b[39m#  See also GH#25959 regarding EA support\u001b[39;00m\n\u001b[0;32m   1183\u001b[0m     \u001b[39mreturn\u001b[39;00m obj\u001b[39m.\u001b[39m_constructor_expanddim(\u001b[39mlist\u001b[39m(mapped), index\u001b[39m=\u001b[39mobj\u001b[39m.\u001b[39mindex)\n",
      "File \u001b[1;32mc:\\Users\\matth\\Documents\\GitHub\\ev-load-forecast-nyc\\venv\\lib\\site-packages\\pandas\\_libs\\lib.pyx:2924\u001b[0m, in \u001b[0;36mpandas._libs.lib.map_infer\u001b[1;34m()\u001b[0m\n",
      "File \u001b[1;32mc:\\Users\\matth\\Documents\\GitHub\\ev-load-forecast-nyc\\venv\\lib\\site-packages\\tqdm\\std.py:800\u001b[0m, in \u001b[0;36mtqdm.pandas.<locals>.inner_generator.<locals>.inner.<locals>.wrapper\u001b[1;34m(*args, **kwargs)\u001b[0m\n\u001b[0;32m    794\u001b[0m \u001b[39mdef\u001b[39;00m \u001b[39mwrapper\u001b[39m(\u001b[39m*\u001b[39margs, \u001b[39m*\u001b[39m\u001b[39m*\u001b[39mkwargs):\n\u001b[0;32m    795\u001b[0m     \u001b[39m# update tbar correctly\u001b[39;00m\n\u001b[0;32m    796\u001b[0m     \u001b[39m# it seems `pandas apply` calls `func` twice\u001b[39;00m\n\u001b[0;32m    797\u001b[0m     \u001b[39m# on the first column/row to decide whether it can\u001b[39;00m\n\u001b[0;32m    798\u001b[0m     \u001b[39m# take a fast or slow code path; so stop when t.total==t.n\u001b[39;00m\n\u001b[0;32m    799\u001b[0m     t\u001b[39m.\u001b[39mupdate(n\u001b[39m=\u001b[39m\u001b[39m1\u001b[39m \u001b[39mif\u001b[39;00m \u001b[39mnot\u001b[39;00m t\u001b[39m.\u001b[39mtotal \u001b[39mor\u001b[39;00m t\u001b[39m.\u001b[39mn \u001b[39m<\u001b[39m t\u001b[39m.\u001b[39mtotal \u001b[39melse\u001b[39;00m \u001b[39m0\u001b[39m)\n\u001b[1;32m--> 800\u001b[0m     \u001b[39mreturn\u001b[39;00m func(\u001b[39m*\u001b[39margs, \u001b[39m*\u001b[39m\u001b[39m*\u001b[39mkwargs)\n",
      "Cell \u001b[1;32mIn[5], line 2\u001b[0m, in \u001b[0;36m<lambda>\u001b[1;34m(x)\u001b[0m\n\u001b[0;32m      1\u001b[0m \u001b[39m# Change vin numbers to models\u001b[39;00m\n\u001b[1;32m----> 2\u001b[0m df_dmv[\u001b[39m'\u001b[39m\u001b[39mmodel\u001b[39m\u001b[39m'\u001b[39m] \u001b[39m=\u001b[39m df_dmv[\u001b[39m'\u001b[39m\u001b[39mvin\u001b[39m\u001b[39m'\u001b[39m]\u001b[39m.\u001b[39mprogress_apply(\u001b[39mlambda\u001b[39;00m x: pyvin\u001b[39m.\u001b[39;49mVIN(x, error_handling\u001b[39m=\u001b[39;49mpyvin\u001b[39m.\u001b[39;49mPASS)\u001b[39m.\u001b[39mModel)\n",
      "File \u001b[1;32mc:\\Users\\matth\\Documents\\GitHub\\ev-load-forecast-nyc\\venv\\lib\\site-packages\\pyvin\\pyvin.py:62\u001b[0m, in \u001b[0;36mVIN\u001b[1;34m(error_handling, *vins)\u001b[0m\n\u001b[0;32m     59\u001b[0m post_fields \u001b[39m=\u001b[39m {\u001b[39m'\u001b[39m\u001b[39mformat\u001b[39m\u001b[39m'\u001b[39m: \u001b[39m'\u001b[39m\u001b[39mjson\u001b[39m\u001b[39m'\u001b[39m,\n\u001b[0;32m     60\u001b[0m                \u001b[39m'\u001b[39m\u001b[39mdata\u001b[39m\u001b[39m'\u001b[39m: vin_str}\n\u001b[0;32m     61\u001b[0m resp \u001b[39m=\u001b[39m _SESSION\u001b[39m.\u001b[39mpost(url\u001b[39m=\u001b[39m_URL, data\u001b[39m=\u001b[39mpost_fields)\n\u001b[1;32m---> 62\u001b[0m results \u001b[39m=\u001b[39m resp\u001b[39m.\u001b[39;49mjson()\u001b[39m.\u001b[39mget(_RESULTS, [])\n\u001b[0;32m     63\u001b[0m \u001b[39mif\u001b[39;00m count \u001b[39m==\u001b[39m \u001b[39m1\u001b[39m:\n\u001b[0;32m     64\u001b[0m     \u001b[39mreturn\u001b[39;00m DecodedVIN(results[\u001b[39m0\u001b[39m])\n",
      "File \u001b[1;32mc:\\Users\\matth\\Documents\\GitHub\\ev-load-forecast-nyc\\venv\\lib\\site-packages\\requests\\models.py:975\u001b[0m, in \u001b[0;36mResponse.json\u001b[1;34m(self, **kwargs)\u001b[0m\n\u001b[0;32m    971\u001b[0m     \u001b[39mreturn\u001b[39;00m complexjson\u001b[39m.\u001b[39mloads(\u001b[39mself\u001b[39m\u001b[39m.\u001b[39mtext, \u001b[39m*\u001b[39m\u001b[39m*\u001b[39mkwargs)\n\u001b[0;32m    972\u001b[0m \u001b[39mexcept\u001b[39;00m JSONDecodeError \u001b[39mas\u001b[39;00m e:\n\u001b[0;32m    973\u001b[0m     \u001b[39m# Catch JSON-related errors and raise as requests.JSONDecodeError\u001b[39;00m\n\u001b[0;32m    974\u001b[0m     \u001b[39m# This aliases json.JSONDecodeError and simplejson.JSONDecodeError\u001b[39;00m\n\u001b[1;32m--> 975\u001b[0m     \u001b[39mraise\u001b[39;00m RequestsJSONDecodeError(e\u001b[39m.\u001b[39mmsg, e\u001b[39m.\u001b[39mdoc, e\u001b[39m.\u001b[39mpos)\n",
      "\u001b[1;31mJSONDecodeError\u001b[0m: Expecting value: line 1 column 1 (char 0)"
     ]
    }
   ],
   "source": [
    "# Change vin numbers to models\n",
    "df_dmv['model'] = df_dmv['vin'].progress_apply(lambda x: pyvin.VIN(x, error_handling=pyvin.PASS).Model)"
   ]
  },
  {
   "cell_type": "code",
   "execution_count": null,
   "id": "f95ad216-b5cb-4aa0-9b28-b4e36934e06e",
   "metadata": {
    "tags": []
   },
   "outputs": [],
   "source": [
    "# Drop values if model could not be calculated\n",
    "df_dmv.dropna(subset=['model'], inplace = True)\n",
    "\n",
    "df_dmv.to_csv(index=False)"
   ]
  },
  {
   "cell_type": "code",
   "execution_count": null,
   "id": "5ec6fc4b-321f-4b04-8e8b-0765dcceed86",
   "metadata": {
    "tags": []
   },
   "outputs": [],
   "source": [
    "# Load emission & range data for epa registered vehicles\n",
    "df_veh_range = pd.read_csv('https://www.fueleconomy.gov/feg/epadata/vehicles.csv', low_memory=False)\n",
    "\n",
    "# Change values to float\n",
    "def func_to_numeric(x):\n",
    "    return pd.to_numeric(x, errors = 'coerce')\n",
    "    \n",
    "df_veh_range[['range','rangeCity','rangeCityA','rangeHwy','rangeHwyA','rangeA']] = df_veh_range[['range','rangeCity','rangeCityA','rangeHwy','rangeHwyA','rangeA']].apply(func_to_numeric)\n",
    "\n",
    "# Get mean of vehicle ranges\n",
    "df_veh_range['max_range'] = df_veh_range[['range','rangeCity','rangeCityA','rangeHwy','rangeHwyA','rangeA']].max(axis = 1)\n",
    "\n",
    "# Get only the model and vehicle range\n",
    "df_veh_range = df_veh_range[['model','max_range']]\n",
    "\n",
    "# Drop vehicles without type 2 fuel range\n",
    "df_veh_range.dropna(subset=['max_range'], inplace = True)\n",
    "\n",
    "# Group model duplicates and take the max of the duplicates\n",
    "df_veh_range = df_veh_range.groupby('model').max().reset_index()\n",
    "\n",
    "# Sort ranges by model names\n",
    "df_veh_range.sort_values(by = ['model'], inplace = True)"
   ]
  },
  {
   "cell_type": "code",
   "execution_count": null,
   "id": "ac04f9e3-8564-45d1-aa7c-2d00b1bf8958",
   "metadata": {
    "tags": []
   },
   "outputs": [],
   "source": [
    "df_veh_range[df_veh_range['model'] == 'Model Y Long Range AWD']\n",
    "\n",
    "save_df = df_dmv"
   ]
  },
  {
   "cell_type": "code",
   "execution_count": null,
   "id": "e192fc04-09f4-4455-b756-12e7cbcee92d",
   "metadata": {
    "tags": []
   },
   "outputs": [],
   "source": [
    "# Convert team name in df2 to team name it most closely matches in df1\n",
    "df_dmv['model'] = df_dmv['model'].apply(lambda x: difflib.get_close_matches(x, df_veh_range['model'], n=1))\n",
    "\n",
    "df_dmv['model']\n",
    "# Merge NYS values with model range\n",
    "# test = df_dmv.merge(df_veh_range, how='left', on='model')\n",
    "\n",
    "# test"
   ]
  },
  {
   "cell_type": "code",
   "execution_count": null,
   "id": "bfec3deb-5146-4aeb-8e5a-e9d94156e878",
   "metadata": {
    "tags": []
   },
   "outputs": [],
   "source": [
    "# Load zipcode data\n",
    "zip_df = load_zip_api('data.cityofnewyork.us')\n",
    "\n",
    "# Change geometry into shaply object\n",
    "zip_df['geometry'] = zip_df['the_geom'].apply(lambda x: shape(x))\n",
    "\n",
    "# Convert dataframe into geopandas dataframe\n",
    "gdf_zip = gpd.GeoDataFrame(zip_df, geometry = 'geometry', crs = 'EPSG:4326')\n",
    "gdf_zip['pop_est'] = gdf_zip['pop_est'].apply(lambda x: float(x))\n",
    "\n",
    "gdf_zip.plot(column = 'pop_est', \n",
    "             legend = True,\n",
    "             legend_kwds = {\n",
    "                            'label': \"Probability of model X being used in zipcode\"\n",
    "                           }\n",
    "            )"
   ]
  }
 ],
 "metadata": {
  "kernelspec": {
   "display_name": "Python 3 (ipykernel)",
   "language": "python",
   "name": "python3"
  },
  "language_info": {
   "codemirror_mode": {
    "name": "ipython",
    "version": 3
   },
   "file_extension": ".py",
   "mimetype": "text/x-python",
   "name": "python",
   "nbconvert_exporter": "python",
   "pygments_lexer": "ipython3",
   "version": "3.10.11"
  }
 },
 "nbformat": 4,
 "nbformat_minor": 5
}
