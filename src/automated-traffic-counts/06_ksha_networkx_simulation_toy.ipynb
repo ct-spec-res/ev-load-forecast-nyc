{
 "cells": [
  {
   "cell_type": "code",
   "execution_count": 1,
   "id": "42f73ccf-730f-4c67-948d-c868aa508518",
   "metadata": {},
   "outputs": [
    {
     "name": "stdout",
     "output_type": "stream",
     "text": [
      "(CVXPY) Nov 29 02:16:28 AM: Encountered unexpected exception importing solver SCS:\n",
      "ImportError(\"dlopen(/Users/kimsha/anaconda3/envs/ev-load-forecast-nyc/lib/python3.10/site-packages/_scs_direct.cpython-310-darwin.so, 0x0002): Library not loaded: @rpath/liblapack.3.dylib\\n  Referenced from: <EA245032-41C7-30EA-BA1A-C55492696949> /Users/kimsha/anaconda3/envs/ev-load-forecast-nyc/lib/python3.10/site-packages/_scs_direct.cpython-310-darwin.so\\n  Reason: tried: '/Users/kimsha/anaconda3/envs/ev-load-forecast-nyc/lib/python3.10/site-packages/../../liblapack.3.dylib' (no such file), '/Users/kimsha/anaconda3/envs/ev-load-forecast-nyc/lib/python3.10/site-packages/../../liblapack.3.dylib' (no such file), '/Users/kimsha/anaconda3/envs/ev-load-forecast-nyc/bin/../lib/liblapack.3.dylib' (no such file), '/Users/kimsha/anaconda3/envs/ev-load-forecast-nyc/bin/../lib/liblapack.3.dylib' (no such file), '/usr/local/lib/liblapack.3.dylib' (no such file), '/usr/lib/liblapack.3.dylib' (no such file, not in dyld cache)\")\n"
     ]
    }
   ],
   "source": [
    "import numpy as np\n",
    "import networkx as nx\n",
    "import cvxpy as cp\n",
    "import pandas as pd\n",
    "\n",
    "import warnings\n",
    "warnings.filterwarnings(\"ignore\")\n",
    "\n",
    "import scipy.io as sio\n",
    "from scipy.stats import poisson, uniform"
   ]
  },
  {
   "cell_type": "markdown",
   "id": "74635aff-2e4a-426c-a3b3-b4155f4ab080",
   "metadata": {},
   "source": [
    "# Parking Simulation: Toy Example\n",
    "\n",
    "Due to computational constraints at scale, we iterated our simulation on a smaller toy network first (similar to when we formulated the matrix completion):"
   ]
  },
  {
   "cell_type": "markdown",
   "id": "06dd5995-5ef9-4c9f-9121-f26f375395b3",
   "metadata": {},
   "source": [
    "## Toy Network"
   ]
  },
  {
   "cell_type": "markdown",
   "id": "00bd9883-6365-45d9-88ed-a5040755ffd0",
   "metadata": {},
   "source": [
    "Simple network with 2 intersections:"
   ]
  },
  {
   "cell_type": "code",
   "execution_count": 2,
   "id": "eab2d54b-070b-4006-b71c-da97612a2c28",
   "metadata": {},
   "outputs": [
    {
     "data": {
      "image/png": "[encoded data removed]",
      "text/plain": [
       "<Figure size 640x480 with 1 Axes>"
      ]
     },
     "metadata": {},
     "output_type": "display_data"
    }
   ],
   "source": [
    "G = nx.grid_2d_graph(4, 3)\n",
    "D = G.to_directed()\n",
    "\n",
    "for n in [(0, 0), (0, 2), (3, 0), (3, 2)]:\n",
    "    D.remove_node(n)\n",
    "    \n",
    "for e in [((2, 2), (1, 2)), ((2, 0), (1, 0))]:\n",
    "    D.remove_edge(*e)\n",
    "    D.remove_edge(*e[::-1])\n",
    "    \n",
    "nx.draw_networkx(D)"
   ]
  },
  {
   "cell_type": "markdown",
   "id": "67de5ec3-e4f4-4de7-b7b7-510395b6a1fc",
   "metadata": {},
   "source": [
    "We remove edges from the graph above to create a scenario where there are no 2-way roads:"
   ]
  },
  {
   "cell_type": "code",
   "execution_count": 3,
   "id": "f119a161-dfb6-4d6a-abca-c8185860bea5",
   "metadata": {},
   "outputs": [],
   "source": [
    "for e in [\n",
    "    ((1, 1), (1, 0)), ((1, 1), (1, 2)), ((0, 1), (1, 1)),\n",
    "    ((2, 1), (1, 1)),\n",
    "    ((2, 1), (2, 0)), ((3, 1), (2, 1)), ((2, 2), (2, 1))\n",
    "]:\n",
    "    D.remove_edge(*e)"
   ]
  },
  {
   "cell_type": "markdown",
   "id": "9b5b4b35-1525-4438-94a7-b2015021193d",
   "metadata": {},
   "source": [
    "Computing some graph properties:"
   ]
  },
  {
   "cell_type": "code",
   "execution_count": 4,
   "id": "43982a94-333f-48ad-9f2e-ae7e78cd2f6e",
   "metadata": {},
   "outputs": [],
   "source": [
    "# For directed graphs, entry i,j corresponds to an edge from i to j.\n",
    "A = nx.adjacency_matrix(D, nodelist=list(D.nodes)).todense()\n",
    "\n",
    "# The incidence matrix assigns each row to a node and each column to an edge.\n",
    "# -1: the source (tail) of an edge\n",
    "# 1: the destination (head) of the edge\n",
    "M = nx.incidence_matrix(D, nodelist=list(D.nodes), edgelist=list(D.edges), oriented=True).todense()"
   ]
  },
  {
   "cell_type": "code",
   "execution_count": 5,
   "id": "37356df0-8e9f-48b5-a2f0-ebce93035ebd",
   "metadata": {},
   "outputs": [],
   "source": [
    "# Dual graph\n",
    "D_prime=nx.line_graph(D)\n",
    "\n",
    "# Note: this is the adjacency matrix for the DUAL graph\n",
    "A_prime = nx.adjacency_matrix(D_prime, nodelist=list(D.edges)).todense()"
   ]
  },
  {
   "cell_type": "markdown",
   "id": "e448dcf5-9487-401a-a100-9f63592a8ae7",
   "metadata": {},
   "source": [
    "## Simulations"
   ]
  },
  {
   "cell_type": "markdown",
   "id": "09ddacfe-eae6-4c18-b3de-56df81e53cc9",
   "metadata": {},
   "source": [
    "### Parking Volumes\n",
    "\n",
    "**Note**: this is just a randomly sampled *placeholder* drawn from a Poisson distribution assuming i.i.d. parking decisions. You will see next time how we draw from the distribution with bounded constraints that reflect the max parking capacity allowed on each street segment. But for now this will suffice..."
   ]
  },
  {
   "cell_type": "code",
   "execution_count": 6,
   "id": "dc0d7c40-f0bf-49d0-b757-5bec7ebc73ef",
   "metadata": {},
   "outputs": [
    {
     "name": "stdout",
     "output_type": "stream",
     "text": [
      "(7, 8)\n"
     ]
    },
    {
     "data": {
      "text/plain": [
       "array([[ 5,  4,  4,  5,  5,  3,  5,  4],\n",
       "       [ 6,  7,  2,  5,  5,  6,  4,  6],\n",
       "       [ 6,  1,  7,  2, 11,  4,  3,  8],\n",
       "       [ 3,  3,  5,  8,  3,  2,  5,  3],\n",
       "       [ 8, 10,  3,  2,  5,  7,  6,  6],\n",
       "       [ 2,  4,  9,  7, 11,  8,  3,  2],\n",
       "       [ 3,  4,  5,  5,  4,  3,  8,  2]])"
      ]
     },
     "execution_count": 6,
     "metadata": {},
     "output_type": "execute_result"
    }
   ],
   "source": [
    "# Randomly sample parking matrix P for 8 time intervals\n",
    "T = 8\n",
    "\n",
    "np.random.seed(42)\n",
    "P = np.random.poisson(lam=5.0, size=(len(D.edges), T))\n",
    "print(P.shape)\n",
    "P"
   ]
  },
  {
   "cell_type": "markdown",
   "id": "c5fab3f6-fb06-4711-8451-632c284b91f6",
   "metadata": {},
   "source": [
    "### Inflow/Outflow"
   ]
  },
  {
   "cell_type": "markdown",
   "id": "af9c0b4b-885d-4de8-8391-489d1068834f",
   "metadata": {},
   "source": [
    "#### Formulation\n",
    "\n",
    "***Goal***: to formulate an optimization problem to reverse-engineer suitable $F_{\\text{in}}$, $F_{\\text{out}}$ given a sample parking matrix:\n"
   ]
  },
  {
   "cell_type": "markdown",
   "id": "f62e4092-8884-4fe6-9a60-e6900d05df37",
   "metadata": {},
   "source": [
    "**Variables**:\n",
    "- $G(V,E)$ is a network (graph) where the nodes/vertices ($V$) represent road intersections and the links/edges ($E$) represent the street segments.\n",
    "- $F_{\\text{in}}(u, v, t)$: Number of vehicles flowing into edge $(u, v)$ over time interval starting at $t$.\n",
    "- $F_{\\text{out}}(u, v, t)$: Number of vehicles flowing out of edge $(u, v)$ over time interval starting at $t$.\n",
    "- $P(u, v, t)$: Number of vehicles parked on road segment / edge $(u, v)$ at time $t$ (start of the time interval).\n",
    "\n",
    "**Objective Function**:\n",
    "Most terms are borrowed from the matrix completion objective function (perhaps it's problematic / circular reasoning to use similar elements to the original objective function?):\n",
    "\n",
    "$$\n",
    "\\text{minimize } \\lambda_3||F_{out}(:, t+1) - F_{out}(:, t)||_F + \\lambda_4||F_{in}(:, t+1) - F_{in}(:, t)||_F + \\lambda_5||\\bar{F} - F||_F\n",
    "$$\n",
    "\n",
    "**Constraints**:\n",
    "1. **Parking Change Consistency**:\n",
    "For each edge $(u, v)$ and time $t$:\n",
    "\n",
    "$$\n",
    "F_{\\text{in}}(u, v, t) - F_{\\text{out}}(u, v, t) = P(u, v, t+1) - P(u, v, t) = \\delta P(u, v, t)\n",
    "$$\n",
    "\n",
    "2. **Flow Conservation** (around *interior* intersections):\n",
    "\n",
    "For each edge $(u, v)$ and time interval starting at $t$: the inflow into an edge $(u, v)$ over time interval starting at $t$ must be equal to the sum of outflow from edges incident on the origin $u$ (i.e., edges **going into** intersection $u$), minus the sum of inflow into other edges that share the same origin $u$ (but **different** $v$) over that same interval.\n",
    "\n",
    "$$\n",
    "F_{\\text{in}}(u, v, t) = \\sum_{\\forall w \\text{; } \\exists (w, u) \\in E} F_{\\text{out}}(w, u, t) - \\sum_{\\forall w \\text{; } \\exists (u, w) \\in E \\text{; } w \\neq v} F_{\\text{in}}(u, w, t)\n",
    "$$\n",
    "\n",
    "$$\n",
    "F_{\\text{in}}(:, t) = A'^\\intercal \\cdot F_{\\text{out}}(:, t) - O \\cdot F_{\\text{in}}(:, t)\n",
    "$$\n",
    "- Where $O$ is an \"outgoing\" matrix constructed from the incidence matrix $M$ that indicates for each edge $(u, v)$, all the ***other*** edges that share the same origin $u$.\n",
    "\n",
    "**UPDATE:** This balance can only be applied to edges for which the origin is fully characterized (i.e., we know all the connected edges to that origin). Therefore, it cannot be applied to the outer edges on the boundaries of the network that are \"sources\" of flow into the whole network.\n",
    "\n",
    "3. **Non-negativity**:\n",
    "For each edge $(u, v)$ and time $t$:\n",
    "\n",
    "$$\n",
    "F_{\\text{in}}(u, v, t) \\geq 0, \\quad F_{\\text{out}}(u, v, t) \\geq 0\n",
    "$$\n",
    "\n",
    "4. **Integer Constraints**:\n",
    "For each edge $(u, v)$ and time $t$:\n",
    "\n",
    "$$\n",
    "F_{\\text{in}}(u, v, t) \\in \\mathbb{Z}, \\quad F_{\\text{out}}(u, v, t) \\in \\mathbb{Z}\n",
    "$$"
   ]
  },
  {
   "cell_type": "markdown",
   "id": "e4cc5e59-0a6d-4ae1-9b19-842b9c96caa4",
   "metadata": {},
   "source": [
    "#### Set-up"
   ]
  },
  {
   "cell_type": "code",
   "execution_count": 7,
   "id": "3c416385-0088-454c-8856-fc42b5578dff",
   "metadata": {},
   "outputs": [],
   "source": [
    "# Let's construct O using the incidence matrix:\n",
    "M_in = np.where(M == -1, 1, 0)\n",
    "\n",
    "# For each edge in M (columns), identify the node where the edge originates from,\n",
    "# and then append the row of all other edges that share the same origin node\n",
    "O = []\n",
    "for e in M_in.T:\n",
    "    idx = np.argmax(e)\n",
    "    O.append(M_in[idx])\n",
    "O = np.array(O)\n",
    "\n",
    "# subtract the identity matrix to ensure that the edge itself is not counted in its outflow.\n",
    "O = O - np.eye(len(D.edges), len(D.edges))"
   ]
  },
  {
   "cell_type": "markdown",
   "id": "6c77ec60-ad0d-4224-8867-422bab9d823a",
   "metadata": {},
   "source": [
    "**UPDATE:** the flow conservation constraint can only be applied to edges for which the origin is fully characterized (i.e., we know all the connected edges to that origin). In practice, we shall construct a binary \"mask\" that zeroes out rows pertaining to edges that shouldn't be included in this constraint:"
   ]
  },
  {
   "cell_type": "code",
   "execution_count": 8,
   "id": "7369e2d9-c6ca-4a5a-ba91-2ac22e3c3266",
   "metadata": {},
   "outputs": [
    {
     "data": {
      "text/plain": [
       "array([[0, 0, 0, 0, 0, 0, 0, 0],\n",
       "       [1, 1, 1, 1, 1, 1, 1, 1],\n",
       "       [1, 1, 1, 1, 1, 1, 1, 1],\n",
       "       [0, 0, 0, 0, 0, 0, 0, 0],\n",
       "       [0, 0, 0, 0, 0, 0, 0, 0],\n",
       "       [1, 1, 1, 1, 1, 1, 1, 1],\n",
       "       [1, 1, 1, 1, 1, 1, 1, 1]])"
      ]
     },
     "execution_count": 8,
     "metadata": {},
     "output_type": "execute_result"
    }
   ],
   "source": [
    "# Create a mask that will be multipled (element-wise) against the matrices in the flow conservation constraint:\n",
    "mask = np.ones_like(P)\n",
    "for idx, e in enumerate(D.edges):\n",
    "    if len(D.in_edges(e[0])) == 0:\n",
    "        mask[idx, :] = 0\n",
    "mask"
   ]
  },
  {
   "cell_type": "markdown",
   "id": "a700b263-54f4-42a7-b573-927b6ff78264",
   "metadata": {},
   "source": [
    "#### Gurobi Solver"
   ]
  },
  {
   "cell_type": "code",
   "execution_count": 9,
   "id": "a90c3c0e-8ca3-4314-a440-0ea886b44856",
   "metadata": {},
   "outputs": [
    {
     "name": "stdout",
     "output_type": "stream",
     "text": [
      "Set parameter Username\n",
      "Academic license - for non-commercial use only - expires 2024-10-10\n",
      "CPU times: user 20min 7s, sys: 1min 6s, total: 21min 14s\n",
      "Wall time: 3min 20s\n"
     ]
    },
    {
     "data": {
      "text/plain": [
       "'optimal'"
      ]
     },
     "execution_count": 9,
     "metadata": {},
     "output_type": "execute_result"
    }
   ],
   "source": [
    "%%time\n",
    "\n",
    "# Decision Variables\n",
    "F_in = cp.Variable((len(D.edges), T), integer=True)\n",
    "F_out = cp.Variable((len(D.edges), T), integer=True)\n",
    "\n",
    "# Hyperparameters\n",
    "l1, l2, l3, l4, l5 = 1, 1, 1, 1, 1\n",
    "\n",
    "expr3 = l3 * cp.atoms.norm(F_out[:, 1:] - F_out[:, :-1], p='fro')\n",
    "expr4 = l4 * cp.atoms.norm(F_in[:, 1:] - F_in[:, :-1], p='fro')\n",
    "expr5 = l5 * cp.atoms.norm(F_in - F_out, p='fro')\n",
    "\n",
    "# Objective\n",
    "objective = cp.Minimize(expr3 + expr4 + expr5)\n",
    "\n",
    "# Constraints\n",
    "constraints = [\n",
    "    F_in >= 0,  # Ensure each element of F_in is positive\n",
    "    F_out >= 0  # Ensure each element of F_out is positive    \n",
    "]\n",
    "\n",
    "# Parking Change Consistency\n",
    "constraints.append((F_in - F_out)[:, :-1] == (P[:, 1:] - P[:, :-1]))\n",
    "\n",
    "# Flow Conservation\n",
    "constraints.append(cp.multiply(mask, F_in) == cp.multiply(mask, A_prime.T @ F_out - O @ F_in))\n",
    "\n",
    "# Formulating the problem\n",
    "problem = cp.Problem(objective, constraints)\n",
    "\n",
    "problem.solve(solver=cp.GUROBI, reoptimize=False)\n",
    "\n",
    "problem.status"
   ]
  },
  {
   "cell_type": "markdown",
   "id": "97d54305-da48-48b2-9e24-a43e52c735a7",
   "metadata": {},
   "source": [
    "## Sense Checks\n",
    "Let's demonstrate how the constraints are manifested in results:"
   ]
  },
  {
   "cell_type": "markdown",
   "id": "aac6bec4-41bc-46e2-8e48-8ffa84b4faa9",
   "metadata": {},
   "source": [
    "$$\n",
    "F_{\\text{in}}(u, v, t) - F_{\\text{out}}(u, v, t) = P(u, v, t+1) - P(u, v, t) = \\delta P(u, v, t)\n",
    "$$\n",
    "\n",
    "$$\n",
    "P(u, v, t) + F_{\\text{in}}(u, v, t) - F_{\\text{out}}(u, v, t) = P(u, v, t+1)\n",
    "$$"
   ]
  },
  {
   "cell_type": "code",
   "execution_count": 10,
   "id": "8521e1c2-9a14-464a-ba56-15414095c4e8",
   "metadata": {},
   "outputs": [
    {
     "data": {
      "text/html": [
       "<div>\n",
       "<style scoped>\n",
       "    .dataframe tbody tr th:only-of-type {\n",
       "        vertical-align: middle;\n",
       "    }\n",
       "\n",
       "    .dataframe tbody tr th {\n",
       "        vertical-align: top;\n",
       "    }\n",
       "\n",
       "    .dataframe thead th {\n",
       "        text-align: right;\n",
       "    }\n",
       "</style>\n",
       "<table border=\"1\" class=\"dataframe\">\n",
       "  <thead>\n",
       "    <tr style=\"text-align: right;\">\n",
       "      <th></th>\n",
       "      <th></th>\n",
       "      <th>0</th>\n",
       "      <th>1</th>\n",
       "      <th>2</th>\n",
       "      <th>3</th>\n",
       "      <th>4</th>\n",
       "      <th>5</th>\n",
       "      <th>6</th>\n",
       "      <th>7</th>\n",
       "    </tr>\n",
       "  </thead>\n",
       "  <tbody>\n",
       "    <tr>\n",
       "      <th>(1, 0)</th>\n",
       "      <th>(1, 1)</th>\n",
       "      <td>5</td>\n",
       "      <td>4</td>\n",
       "      <td>4</td>\n",
       "      <td>5</td>\n",
       "      <td>5</td>\n",
       "      <td>3</td>\n",
       "      <td>5</td>\n",
       "      <td>4</td>\n",
       "    </tr>\n",
       "    <tr>\n",
       "      <th rowspan=\"2\" valign=\"top\">(1, 1)</th>\n",
       "      <th>(0, 1)</th>\n",
       "      <td>6</td>\n",
       "      <td>7</td>\n",
       "      <td>2</td>\n",
       "      <td>5</td>\n",
       "      <td>5</td>\n",
       "      <td>6</td>\n",
       "      <td>4</td>\n",
       "      <td>6</td>\n",
       "    </tr>\n",
       "    <tr>\n",
       "      <th>(2, 1)</th>\n",
       "      <td>6</td>\n",
       "      <td>1</td>\n",
       "      <td>7</td>\n",
       "      <td>2</td>\n",
       "      <td>11</td>\n",
       "      <td>4</td>\n",
       "      <td>3</td>\n",
       "      <td>8</td>\n",
       "    </tr>\n",
       "    <tr>\n",
       "      <th>(1, 2)</th>\n",
       "      <th>(1, 1)</th>\n",
       "      <td>3</td>\n",
       "      <td>3</td>\n",
       "      <td>5</td>\n",
       "      <td>8</td>\n",
       "      <td>3</td>\n",
       "      <td>2</td>\n",
       "      <td>5</td>\n",
       "      <td>3</td>\n",
       "    </tr>\n",
       "    <tr>\n",
       "      <th>(2, 0)</th>\n",
       "      <th>(2, 1)</th>\n",
       "      <td>8</td>\n",
       "      <td>10</td>\n",
       "      <td>3</td>\n",
       "      <td>2</td>\n",
       "      <td>5</td>\n",
       "      <td>7</td>\n",
       "      <td>6</td>\n",
       "      <td>6</td>\n",
       "    </tr>\n",
       "    <tr>\n",
       "      <th rowspan=\"2\" valign=\"top\">(2, 1)</th>\n",
       "      <th>(3, 1)</th>\n",
       "      <td>2</td>\n",
       "      <td>4</td>\n",
       "      <td>9</td>\n",
       "      <td>7</td>\n",
       "      <td>11</td>\n",
       "      <td>8</td>\n",
       "      <td>3</td>\n",
       "      <td>2</td>\n",
       "    </tr>\n",
       "    <tr>\n",
       "      <th>(2, 2)</th>\n",
       "      <td>3</td>\n",
       "      <td>4</td>\n",
       "      <td>5</td>\n",
       "      <td>5</td>\n",
       "      <td>4</td>\n",
       "      <td>3</td>\n",
       "      <td>8</td>\n",
       "      <td>2</td>\n",
       "    </tr>\n",
       "  </tbody>\n",
       "</table>\n",
       "</div>"
      ],
      "text/plain": [
       "               0   1  2  3   4  5  6  7\n",
       "(1, 0) (1, 1)  5   4  4  5   5  3  5  4\n",
       "(1, 1) (0, 1)  6   7  2  5   5  6  4  6\n",
       "       (2, 1)  6   1  7  2  11  4  3  8\n",
       "(1, 2) (1, 1)  3   3  5  8   3  2  5  3\n",
       "(2, 0) (2, 1)  8  10  3  2   5  7  6  6\n",
       "(2, 1) (3, 1)  2   4  9  7  11  8  3  2\n",
       "       (2, 2)  3   4  5  5   4  3  8  2"
      ]
     },
     "execution_count": 10,
     "metadata": {},
     "output_type": "execute_result"
    }
   ],
   "source": [
    "pd.DataFrame(P, index=D.edges)"
   ]
  },
  {
   "cell_type": "code",
   "execution_count": 11,
   "id": "5700b569-d3c9-458a-9b8f-51c18305ba0f",
   "metadata": {},
   "outputs": [
    {
     "data": {
      "text/html": [
       "<div>\n",
       "<style scoped>\n",
       "    .dataframe tbody tr th:only-of-type {\n",
       "        vertical-align: middle;\n",
       "    }\n",
       "\n",
       "    .dataframe tbody tr th {\n",
       "        vertical-align: top;\n",
       "    }\n",
       "\n",
       "    .dataframe thead th {\n",
       "        text-align: right;\n",
       "    }\n",
       "</style>\n",
       "<table border=\"1\" class=\"dataframe\">\n",
       "  <thead>\n",
       "    <tr style=\"text-align: right;\">\n",
       "      <th></th>\n",
       "      <th></th>\n",
       "      <th>1</th>\n",
       "      <th>2</th>\n",
       "      <th>3</th>\n",
       "      <th>4</th>\n",
       "      <th>5</th>\n",
       "      <th>6</th>\n",
       "      <th>7</th>\n",
       "      <th>8</th>\n",
       "    </tr>\n",
       "  </thead>\n",
       "  <tbody>\n",
       "    <tr>\n",
       "      <th>(1, 0)</th>\n",
       "      <th>(1, 1)</th>\n",
       "      <td>4</td>\n",
       "      <td>4</td>\n",
       "      <td>5</td>\n",
       "      <td>5</td>\n",
       "      <td>3</td>\n",
       "      <td>5</td>\n",
       "      <td>4</td>\n",
       "      <td>3</td>\n",
       "    </tr>\n",
       "    <tr>\n",
       "      <th rowspan=\"2\" valign=\"top\">(1, 1)</th>\n",
       "      <th>(0, 1)</th>\n",
       "      <td>7</td>\n",
       "      <td>2</td>\n",
       "      <td>5</td>\n",
       "      <td>5</td>\n",
       "      <td>6</td>\n",
       "      <td>4</td>\n",
       "      <td>6</td>\n",
       "      <td>7</td>\n",
       "    </tr>\n",
       "    <tr>\n",
       "      <th>(2, 1)</th>\n",
       "      <td>1</td>\n",
       "      <td>7</td>\n",
       "      <td>2</td>\n",
       "      <td>11</td>\n",
       "      <td>4</td>\n",
       "      <td>3</td>\n",
       "      <td>8</td>\n",
       "      <td>10</td>\n",
       "    </tr>\n",
       "    <tr>\n",
       "      <th>(1, 2)</th>\n",
       "      <th>(1, 1)</th>\n",
       "      <td>3</td>\n",
       "      <td>5</td>\n",
       "      <td>8</td>\n",
       "      <td>3</td>\n",
       "      <td>2</td>\n",
       "      <td>5</td>\n",
       "      <td>3</td>\n",
       "      <td>2</td>\n",
       "    </tr>\n",
       "    <tr>\n",
       "      <th>(2, 0)</th>\n",
       "      <th>(2, 1)</th>\n",
       "      <td>10</td>\n",
       "      <td>3</td>\n",
       "      <td>2</td>\n",
       "      <td>5</td>\n",
       "      <td>7</td>\n",
       "      <td>6</td>\n",
       "      <td>6</td>\n",
       "      <td>6</td>\n",
       "    </tr>\n",
       "    <tr>\n",
       "      <th rowspan=\"2\" valign=\"top\">(2, 1)</th>\n",
       "      <th>(3, 1)</th>\n",
       "      <td>4</td>\n",
       "      <td>9</td>\n",
       "      <td>7</td>\n",
       "      <td>11</td>\n",
       "      <td>8</td>\n",
       "      <td>3</td>\n",
       "      <td>2</td>\n",
       "      <td>1</td>\n",
       "    </tr>\n",
       "    <tr>\n",
       "      <th>(2, 2)</th>\n",
       "      <td>4</td>\n",
       "      <td>5</td>\n",
       "      <td>5</td>\n",
       "      <td>4</td>\n",
       "      <td>3</td>\n",
       "      <td>8</td>\n",
       "      <td>2</td>\n",
       "      <td>0</td>\n",
       "    </tr>\n",
       "  </tbody>\n",
       "</table>\n",
       "</div>"
      ],
      "text/plain": [
       "                1  2  3   4  5  6  7   8\n",
       "(1, 0) (1, 1)   4  4  5   5  3  5  4   3\n",
       "(1, 1) (0, 1)   7  2  5   5  6  4  6   7\n",
       "       (2, 1)   1  7  2  11  4  3  8  10\n",
       "(1, 2) (1, 1)   3  5  8   3  2  5  3   2\n",
       "(2, 0) (2, 1)  10  3  2   5  7  6  6   6\n",
       "(2, 1) (3, 1)   4  9  7  11  8  3  2   1\n",
       "       (2, 2)   4  5  5   4  3  8  2   0"
      ]
     },
     "execution_count": 11,
     "metadata": {},
     "output_type": "execute_result"
    }
   ],
   "source": [
    "# Recovering the parking matrix for t+1 at each t\n",
    "pd.DataFrame(P + F_in.value - F_out.value, index=D.edges, columns=range(1, 9)).round(0).astype(int)"
   ]
  },
  {
   "cell_type": "markdown",
   "id": "58178119-9709-47f8-95ff-92c1b617da1a",
   "metadata": {},
   "source": [
    "$$\n",
    "F_{\\text{in}}(u, v, t) = \\sum_{\\forall w \\text{; } \\exists (w, u) \\in E} F_{\\text{out}}(w, u, t) - \\sum_{\\forall w \\text{; } \\exists (u, w) \\in E \\text{; } w \\neq v} F_{\\text{in}}(u, w, t)\n",
    "$$"
   ]
  },
  {
   "cell_type": "code",
   "execution_count": 12,
   "id": "db03e73a-c44a-4737-b8b8-bb2031fc1111",
   "metadata": {},
   "outputs": [
    {
     "data": {
      "text/html": [
       "<div>\n",
       "<style scoped>\n",
       "    .dataframe tbody tr th:only-of-type {\n",
       "        vertical-align: middle;\n",
       "    }\n",
       "\n",
       "    .dataframe tbody tr th {\n",
       "        vertical-align: top;\n",
       "    }\n",
       "\n",
       "    .dataframe thead th {\n",
       "        text-align: right;\n",
       "    }\n",
       "</style>\n",
       "<table border=\"1\" class=\"dataframe\">\n",
       "  <thead>\n",
       "    <tr style=\"text-align: right;\">\n",
       "      <th></th>\n",
       "      <th></th>\n",
       "      <th>0</th>\n",
       "      <th>1</th>\n",
       "      <th>2</th>\n",
       "      <th>3</th>\n",
       "      <th>4</th>\n",
       "      <th>5</th>\n",
       "      <th>6</th>\n",
       "      <th>7</th>\n",
       "    </tr>\n",
       "  </thead>\n",
       "  <tbody>\n",
       "    <tr>\n",
       "      <th>(1, 0)</th>\n",
       "      <th>(1, 1)</th>\n",
       "      <td>2</td>\n",
       "      <td>4</td>\n",
       "      <td>4</td>\n",
       "      <td>4</td>\n",
       "      <td>0</td>\n",
       "      <td>4</td>\n",
       "      <td>3</td>\n",
       "      <td>3</td>\n",
       "    </tr>\n",
       "    <tr>\n",
       "      <th rowspan=\"2\" valign=\"top\">(1, 1)</th>\n",
       "      <th>(0, 1)</th>\n",
       "      <td>4</td>\n",
       "      <td>0</td>\n",
       "      <td>5</td>\n",
       "      <td>2</td>\n",
       "      <td>5</td>\n",
       "      <td>2</td>\n",
       "      <td>4</td>\n",
       "      <td>4</td>\n",
       "    </tr>\n",
       "    <tr>\n",
       "      <th>(2, 1)</th>\n",
       "      <td>2</td>\n",
       "      <td>7</td>\n",
       "      <td>0</td>\n",
       "      <td>9</td>\n",
       "      <td>0</td>\n",
       "      <td>3</td>\n",
       "      <td>6</td>\n",
       "      <td>5</td>\n",
       "    </tr>\n",
       "    <tr>\n",
       "      <th>(1, 2)</th>\n",
       "      <th>(1, 1)</th>\n",
       "      <td>3</td>\n",
       "      <td>5</td>\n",
       "      <td>5</td>\n",
       "      <td>2</td>\n",
       "      <td>2</td>\n",
       "      <td>6</td>\n",
       "      <td>4</td>\n",
       "      <td>4</td>\n",
       "    </tr>\n",
       "    <tr>\n",
       "      <th>(2, 0)</th>\n",
       "      <th>(2, 1)</th>\n",
       "      <td>5</td>\n",
       "      <td>1</td>\n",
       "      <td>2</td>\n",
       "      <td>7</td>\n",
       "      <td>3</td>\n",
       "      <td>3</td>\n",
       "      <td>3</td>\n",
       "      <td>3</td>\n",
       "    </tr>\n",
       "    <tr>\n",
       "      <th rowspan=\"2\" valign=\"top\">(2, 1)</th>\n",
       "      <th>(3, 1)</th>\n",
       "      <td>6</td>\n",
       "      <td>6</td>\n",
       "      <td>4</td>\n",
       "      <td>4</td>\n",
       "      <td>4</td>\n",
       "      <td>2</td>\n",
       "      <td>4</td>\n",
       "      <td>4</td>\n",
       "    </tr>\n",
       "    <tr>\n",
       "      <th>(2, 2)</th>\n",
       "      <td>4</td>\n",
       "      <td>3</td>\n",
       "      <td>4</td>\n",
       "      <td>0</td>\n",
       "      <td>4</td>\n",
       "      <td>6</td>\n",
       "      <td>0</td>\n",
       "      <td>2</td>\n",
       "    </tr>\n",
       "  </tbody>\n",
       "</table>\n",
       "</div>"
      ],
      "text/plain": [
       "               0  1  2  3  4  5  6  7\n",
       "(1, 0) (1, 1)  2  4  4  4  0  4  3  3\n",
       "(1, 1) (0, 1)  4  0  5  2  5  2  4  4\n",
       "       (2, 1)  2  7  0  9  0  3  6  5\n",
       "(1, 2) (1, 1)  3  5  5  2  2  6  4  4\n",
       "(2, 0) (2, 1)  5  1  2  7  3  3  3  3\n",
       "(2, 1) (3, 1)  6  6  4  4  4  2  4  4\n",
       "       (2, 2)  4  3  4  0  4  6  0  2"
      ]
     },
     "execution_count": 12,
     "metadata": {},
     "output_type": "execute_result"
    }
   ],
   "source": [
    "F_in = pd.DataFrame(F_in.value, index=D.edges).round(0).astype(int)\n",
    "F_in"
   ]
  },
  {
   "cell_type": "code",
   "execution_count": 13,
   "id": "7e41a818-95b8-41ae-aa0a-7353ecb4ac04",
   "metadata": {},
   "outputs": [
    {
     "data": {
      "text/html": [
       "<div>\n",
       "<style scoped>\n",
       "    .dataframe tbody tr th:only-of-type {\n",
       "        vertical-align: middle;\n",
       "    }\n",
       "\n",
       "    .dataframe tbody tr th {\n",
       "        vertical-align: top;\n",
       "    }\n",
       "\n",
       "    .dataframe thead th {\n",
       "        text-align: right;\n",
       "    }\n",
       "</style>\n",
       "<table border=\"1\" class=\"dataframe\">\n",
       "  <thead>\n",
       "    <tr style=\"text-align: right;\">\n",
       "      <th></th>\n",
       "      <th></th>\n",
       "      <th>0</th>\n",
       "      <th>1</th>\n",
       "      <th>2</th>\n",
       "      <th>3</th>\n",
       "      <th>4</th>\n",
       "      <th>5</th>\n",
       "      <th>6</th>\n",
       "      <th>7</th>\n",
       "    </tr>\n",
       "  </thead>\n",
       "  <tbody>\n",
       "    <tr>\n",
       "      <th>(1, 0)</th>\n",
       "      <th>(1, 1)</th>\n",
       "      <td>3</td>\n",
       "      <td>4</td>\n",
       "      <td>3</td>\n",
       "      <td>4</td>\n",
       "      <td>2</td>\n",
       "      <td>2</td>\n",
       "      <td>4</td>\n",
       "      <td>4</td>\n",
       "    </tr>\n",
       "    <tr>\n",
       "      <th rowspan=\"2\" valign=\"top\">(1, 1)</th>\n",
       "      <th>(0, 1)</th>\n",
       "      <td>3</td>\n",
       "      <td>5</td>\n",
       "      <td>2</td>\n",
       "      <td>2</td>\n",
       "      <td>4</td>\n",
       "      <td>4</td>\n",
       "      <td>2</td>\n",
       "      <td>3</td>\n",
       "    </tr>\n",
       "    <tr>\n",
       "      <th>(2, 1)</th>\n",
       "      <td>7</td>\n",
       "      <td>1</td>\n",
       "      <td>5</td>\n",
       "      <td>0</td>\n",
       "      <td>7</td>\n",
       "      <td>4</td>\n",
       "      <td>1</td>\n",
       "      <td>3</td>\n",
       "    </tr>\n",
       "    <tr>\n",
       "      <th>(1, 2)</th>\n",
       "      <th>(1, 1)</th>\n",
       "      <td>3</td>\n",
       "      <td>3</td>\n",
       "      <td>2</td>\n",
       "      <td>7</td>\n",
       "      <td>3</td>\n",
       "      <td>3</td>\n",
       "      <td>6</td>\n",
       "      <td>5</td>\n",
       "    </tr>\n",
       "    <tr>\n",
       "      <th>(2, 0)</th>\n",
       "      <th>(2, 1)</th>\n",
       "      <td>3</td>\n",
       "      <td>8</td>\n",
       "      <td>3</td>\n",
       "      <td>4</td>\n",
       "      <td>1</td>\n",
       "      <td>4</td>\n",
       "      <td>3</td>\n",
       "      <td>3</td>\n",
       "    </tr>\n",
       "    <tr>\n",
       "      <th rowspan=\"2\" valign=\"top\">(2, 1)</th>\n",
       "      <th>(3, 1)</th>\n",
       "      <td>4</td>\n",
       "      <td>1</td>\n",
       "      <td>6</td>\n",
       "      <td>0</td>\n",
       "      <td>7</td>\n",
       "      <td>7</td>\n",
       "      <td>5</td>\n",
       "      <td>5</td>\n",
       "    </tr>\n",
       "    <tr>\n",
       "      <th>(2, 2)</th>\n",
       "      <td>3</td>\n",
       "      <td>2</td>\n",
       "      <td>4</td>\n",
       "      <td>1</td>\n",
       "      <td>5</td>\n",
       "      <td>1</td>\n",
       "      <td>6</td>\n",
       "      <td>4</td>\n",
       "    </tr>\n",
       "  </tbody>\n",
       "</table>\n",
       "</div>"
      ],
      "text/plain": [
       "               0  1  2  3  4  5  6  7\n",
       "(1, 0) (1, 1)  3  4  3  4  2  2  4  4\n",
       "(1, 1) (0, 1)  3  5  2  2  4  4  2  3\n",
       "       (2, 1)  7  1  5  0  7  4  1  3\n",
       "(1, 2) (1, 1)  3  3  2  7  3  3  6  5\n",
       "(2, 0) (2, 1)  3  8  3  4  1  4  3  3\n",
       "(2, 1) (3, 1)  4  1  6  0  7  7  5  5\n",
       "       (2, 2)  3  2  4  1  5  1  6  4"
      ]
     },
     "execution_count": 13,
     "metadata": {},
     "output_type": "execute_result"
    }
   ],
   "source": [
    "F_out = pd.DataFrame(F_out.value, index=D.edges).round(0).astype(int)\n",
    "F_out"
   ]
  },
  {
   "cell_type": "markdown",
   "id": "039a78df-3c13-4425-a837-92456a29ca88",
   "metadata": {},
   "source": [
    "E.g., for edge: `(1, 1) --> (2, 1)`"
   ]
  },
  {
   "cell_type": "code",
   "execution_count": 14,
   "id": "68bbd1a4-ff1c-45fa-aa1d-afde139c8902",
   "metadata": {},
   "outputs": [
    {
     "data": {
      "text/html": [
       "<div>\n",
       "<style scoped>\n",
       "    .dataframe tbody tr th:only-of-type {\n",
       "        vertical-align: middle;\n",
       "    }\n",
       "\n",
       "    .dataframe tbody tr th {\n",
       "        vertical-align: top;\n",
       "    }\n",
       "\n",
       "    .dataframe thead th {\n",
       "        text-align: right;\n",
       "    }\n",
       "</style>\n",
       "<table border=\"1\" class=\"dataframe\">\n",
       "  <thead>\n",
       "    <tr style=\"text-align: right;\">\n",
       "      <th></th>\n",
       "      <th></th>\n",
       "      <th>0</th>\n",
       "      <th>1</th>\n",
       "      <th>2</th>\n",
       "      <th>3</th>\n",
       "      <th>4</th>\n",
       "      <th>5</th>\n",
       "      <th>6</th>\n",
       "      <th>7</th>\n",
       "    </tr>\n",
       "  </thead>\n",
       "  <tbody>\n",
       "    <tr>\n",
       "      <th>(1, 1)</th>\n",
       "      <th>(2, 1)</th>\n",
       "      <td>2</td>\n",
       "      <td>7</td>\n",
       "      <td>0</td>\n",
       "      <td>9</td>\n",
       "      <td>0</td>\n",
       "      <td>3</td>\n",
       "      <td>6</td>\n",
       "      <td>5</td>\n",
       "    </tr>\n",
       "  </tbody>\n",
       "</table>\n",
       "</div>"
      ],
      "text/plain": [
       "               0  1  2  3  4  5  6  7\n",
       "(1, 1) (2, 1)  2  7  0  9  0  3  6  5"
      ]
     },
     "execution_count": 14,
     "metadata": {},
     "output_type": "execute_result"
    }
   ],
   "source": [
    "F_in.loc[((1, 1), (2, 1)), :]"
   ]
  },
  {
   "cell_type": "code",
   "execution_count": 15,
   "id": "0406cd10-0702-4a6e-8e91-23da1dfe4082",
   "metadata": {},
   "outputs": [
    {
     "data": {
      "text/plain": [
       "True"
      ]
     },
     "execution_count": 15,
     "metadata": {},
     "output_type": "execute_result"
    }
   ],
   "source": [
    "(\n",
    "    F_in.loc[((1, 1), (2, 1)), :].values \n",
    "        == F_out.loc[((1, 0), (1, 1)), :].values \n",
    "            + F_out.loc[((1, 2), (1, 1)), :].values \n",
    "            - F_in.loc[((1, 1), (0, 1)), :].values\n",
    ").all()"
   ]
  }
 ],
 "metadata": {
  "kernelspec": {
   "display_name": "Python [conda env:ev-load-forecast-nyc]",
   "language": "python",
   "name": "conda-env-ev-load-forecast-nyc-py"
  },
  "language_info": {
   "codemirror_mode": {
    "name": "ipython",
    "version": 3
   },
   "file_extension": ".py",
   "mimetype": "text/x-python",
   "name": "python",
   "nbconvert_exporter": "python",
   "pygments_lexer": "ipython3",
   "version": "3.10.13"
  },
  "toc-autonumbering": true
 },
 "nbformat": 4,
 "nbformat_minor": 5
}
