{
 "cells": [
  {
   "cell_type": "code",
   "execution_count": null,
   "metadata": {},
   "outputs": [],
   "source": []
  },
  {
   "attachments": {},
   "cell_type": "markdown",
   "metadata": {},
   "source": [
    "## Excel files in EValuateNY ZIP File\n"
   ]
  },
  {
   "attachments": {},
   "cell_type": "markdown",
   "metadata": {},
   "source": [
    "### census_bureau\n",
    "\n",
    "Demographic and employment data for each zip code in NY\n"
   ]
  },
  {
   "cell_type": "markdown",
   "metadata": {},
   "source": []
  },
  {
   "attachments": {},
   "cell_type": "markdown",
   "metadata": {},
   "source": [
    "### Decoded_Prefixes\n",
    "\n",
    "Column headers\n",
    "\n",
    "    Col 1 - VIN\n",
    "    Col 2 - Make\n",
    "    Col 3 - Manufacture\n",
    "    Col 4 - Model\n",
    "    Col 5 - ModelYear\n",
    "    Col 6 - VehicleType (OFF ROAD, MOTORCYCLE, etc)\n",
    "    Col 7 - BodyClass\n",
    "    Col 8 - GVWR (Class 1A... etc)\n",
    "    Col 9 - BodyCabType (Null, NA, etc)\n",
    "    Col 10 - DriveType (Null, AWD, 4WD, etc)\n",
    "    Col 11 - FuelTypePrimary (Gasonline, Electric, Etc)\n",
    "    Col 12 - FuelTypeSecondary (Null, Electric, etc)\n",
    "    Col 13 - Electrification\n",
    "    COl 14 - VIN_Prefix\n",
    "\n"
   ]
  },
  {
   "attachments": {},
   "cell_type": "markdown",
   "metadata": {},
   "source": [
    "### EValuateNY\n",
    "\n",
    "Pivot table with data on number of EVs, Hybrids, and charges for each zip code.\n",
    "Can filter by time or geography"
   ]
  },
  {
   "attachments": {},
   "cell_type": "markdown",
   "metadata": {},
   "source": [
    "### NY Original Registration\n",
    "\n",
    "No Column headers\n",
    "\n",
    "    Col 1 - zip code?\n",
    "    Col 2 - date. generally the first of the month\n",
    "    Col 3 - DMV ID (guess based on Vehicle_Share spreadsheet)\n",
    "    Col 4 - vehile type (passenger car, mulitpurpose passenger vehicle, bus, etc)\n",
    "    Col 5 - vGVWR? (guess from Decoded_Prefixes weight)\n",
    "    COl 6 - unsure.. number. maybe count?"
   ]
  },
  {
   "attachments": {},
   "cell_type": "markdown",
   "metadata": {},
   "source": [
    "### ny_ev_registrations\n",
    "\n",
    "Column headers\n",
    "\n",
    "    Col 1 - ZIP Code\n",
    "    Col 2 - Resigstration Valid Date (date)\n",
    "    Col 3 - DMV ID\n",
    "    Col 4 - Registration (Original, renewal)\n",
    "    Col 5 - VIN Prefix\n",
    "    Col 6 - Vehicle ID (set of 8 numbers)"
   ]
  },
  {
   "attachments": {},
   "cell_type": "markdown",
   "metadata": {},
   "source": [
    "### Vehicle_Share\n",
    "\n",
    "Column headers\n",
    "\n",
    "    Col 1 - Zip\n",
    "    Col 2 - DMV_ID\n",
    "    Col 3 - LDV_Count\n",
    "    Col 4 - Class\n",
    "    Col 5 - VehicleType\n",
    "    Col 6 - Technology (Null, PHEV, BEV)"
   ]
  }
 ],
 "metadata": {
  "kernelspec": {
   "display_name": "Python 3",
   "language": "python",
   "name": "python3"
  },
  "language_info": {
   "name": "python",
   "version": "3.10.2"
  },
  "orig_nbformat": 4
 },
 "nbformat": 4,
 "nbformat_minor": 2
}
